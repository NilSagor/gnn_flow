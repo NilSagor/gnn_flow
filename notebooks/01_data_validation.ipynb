{
 "cells": [
  {
   "cell_type": "code",
   "execution_count": null,
   "id": "7a3afd59",
   "metadata": {},
   "outputs": [],
   "source": [
    "import yaml\n",
    "from pathlib import Path"
   ]
  },
  {
   "cell_type": "code",
   "execution_count": null,
   "id": "64972d3d",
   "metadata": {},
   "outputs": [],
   "source": [
    "from cnn_bence.data_prep.data_module import CIFAR10DataModule"
   ]
  },
  {
   "cell_type": "code",
   "execution_count": null,
   "id": "7cc43e92",
   "metadata": {},
   "outputs": [],
   "source": [
    "# config = {\n",
    "#     \"data\": {\"batch_size\": 32},\n",
    "#     \"training\": {\"num_workers\": 4}\n",
    "# }"
   ]
  },
  {
   "cell_type": "code",
   "execution_count": null,
   "id": "4de3f469",
   "metadata": {},
   "outputs": [],
   "source": [
    "config_path = Path(\"../configs/data/cifar10.yaml\")"
   ]
  },
  {
   "cell_type": "code",
   "execution_count": null,
   "id": "aa8f0d1f",
   "metadata": {},
   "outputs": [],
   "source": [
    "with open(config_path, \"r\") as f:\n",
    "    config = yaml.safe_load(f) "
   ]
  },
  {
   "cell_type": "code",
   "execution_count": null,
   "id": "cc516155",
   "metadata": {},
   "outputs": [
    {
     "name": "stdout",
     "output_type": "stream",
     "text": [
      "Data shape: torch.Size([32, 3, 32, 32]),  torch.Size([32]) \n"
     ]
    }
   ],
   "source": [
    "dm = CIFAR10DataModule(config)\n",
    "dm.prepare_data()\n",
    "dm.setup(stage=\"fit\")\n",
    "dl = dm.train_dataloader()\n",
    "x, y = next(iter(dl))\n",
    "print(f\"Data shape: {x.shape},  {y.shape} \")\n"
   ]
  },
  {
   "cell_type": "code",
   "execution_count": null,
   "id": "13cc35b2",
   "metadata": {},
   "outputs": [
    {
     "name": "stdout",
     "output_type": "stream",
     "text": [
      "Data shape: torch.Size([32, 3, 32, 32]), torch.Size([32])\n"
     ]
    }
   ],
   "source": [
    "dm.setup(stage=\"test\")\n",
    "dl_test = dm.test_dataloader()\n",
    "x, y = next(iter(dl_test))\n",
    "print(f\"Data shape: {x.shape}, {y.shape}\")"
   ]
  },
  {
   "cell_type": "code",
   "execution_count": null,
   "id": "c2538b5f",
   "metadata": {},
   "outputs": [],
   "source": []
  },
  {
   "cell_type": "code",
   "execution_count": null,
   "id": "66c8daa5",
   "metadata": {},
   "outputs": [],
   "source": []
  }
 ],
 "metadata": {
  "kernelspec": {
   "display_name": ".venv",
   "language": "python",
   "name": "python3"
  },
  "language_info": {
   "codemirror_mode": {
    "name": "ipython",
    "version": 3
   },
   "file_extension": ".py",
   "mimetype": "text/x-python",
   "name": "python",
   "nbconvert_exporter": "python",
   "pygments_lexer": "ipython3",
   "version": "3.12.3"
  }
 },
 "nbformat": 4,
 "nbformat_minor": 5
}
